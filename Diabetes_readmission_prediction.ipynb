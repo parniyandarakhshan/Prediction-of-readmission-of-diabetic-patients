{
 "cells": [
  {
   "cell_type": "markdown",
   "metadata": {},
   "source": [
    "# Prediction of readmission of diabetic patients "
   ]
  },
  {
   "cell_type": "code",
   "execution_count": null,
   "metadata": {},
   "outputs": [],
   "source": []
  },
  {
   "cell_type": "markdown",
   "metadata": {},
   "source": [
    "**The dataset represents 10 years (1999-2008) of clinical care at 130 US hospitals and integrated delivery networks. It includes over 50 features representing patient and hospital outcomes. The aim of this project is to precited a diabetic patient's readmission**"
   ]
  },
  {
   "cell_type": "markdown",
   "metadata": {},
   "source": [
    "## Data Set Description\n",
    "\n",
    "* **encounter_id**\tUnique identifier of an encounter\n",
    "* **patient_nbr\tr**\tUnique identifier of a patient\n",
    "* **Race**\tValues: Caucasian, Asian, African American, Hispanic, and other\n",
    "* **Gender**\tValues: male, female, and unknown/invalid\n",
    "* **Age**\tGrouped in 10-year intervals: 0, 10), 10, 20), …, 90, 100)\n",
    "* **Weight**\tWeight in pounds\n",
    "* **admission_type_id**\tInteger identifier corresponding to 9 distinct values, for example, emergency, urgent, elective, newborn, and not available\n",
    "* **discharge_disposition_id**\tInteger identifier corresponding to 29 distinct values, for example, discharged to home, expired, and not available\n",
    "* **admission_source_id\t**\tInteger identifier corresponding to 21 distinct values, for example, physician referral, emergency room, and transfer from a hospital\n",
    "* **Time in hospital**\tInteger number of days between admission and discharge\n",
    "* **Payer code**\tInteger identifier corresponding to 23 distinct values, for example, Blue Cross/Blue Shield, Medicare, and self-pay Medical\n",
    "* **Medical specialty**\tInteger identifier of a specialty of the admitting physician, corresponding to 84 distinct values, for example, cardiology, internal medicine, family/general practice, and surgeon\n",
    "* **Number of lab procedures**\tNumber of lab tests performed during the encounter\n",
    "* **Number of procedures** Numeric\tNumber of procedures (other than lab tests) performed during the encounter\n",
    "* **Number of medications**\tNumber of distinct generic names administered during the encounter\n",
    "* **Number of outpatient visits** Number of outpatient visits of the patient in the year preceding the encounter\n",
    "* **Number of emergency visits**\tNumber of emergency visits of the patient in the year preceding the encounter\n",
    "* **Number of inpatient visits**\tNumber of inpatient visits of the patient in the year preceding the encounter\n",
    "* **Diagnosis 1**\tThe primary diagnosis (coded as first three digits of ICD9); 848 distinct values\n",
    "* **Diagnosis 2**\tSecondary diagnosis (coded as first three digits of ICD9); 923 distinct values\n",
    "* **Diagnosis 3** Additional secondary diagnosis (coded as first three digits of ICD9); 954 distinct values\n",
    "* **Number of diagnoses**\tNumber of diagnoses entered to the system 0%\n",
    "* **Glucose serum test result**\tIndicates the range of the result or if the test was not taken. Values: “>200,” “>300,” “normal,” and “none” if not measured\n",
    "* **A1c test result**\tIndicates the range of the result or if the test was not taken. Values: “>8” if the result was greater than 8%, “>7” if the result was greater than 7% but less than 8%, “normal” if the result was less than 7%, and “none” if not measured.\n",
    "* **change**\tIndicates if there was a change in diabetic medications (either dosage or generic name). Values: “change” and “no change”\n",
    "* **Diabetes medications**\tIndicates if there was any diabetic medication prescribed. Values: “yes” and “no”\n",
    "* 24 features for medications\tFor the generic names: **metformin, repaglinide, nateglinide, chlorpropamide, glimepiride, acetohexamide, glipizide, glyburide, tolbutamide, pioglitazone, rosiglitazone, acarbose, miglitol, troglitazone, tolazamide, examide, sitagliptin, insulin, glyburide-metformin, glipizide-metformin, glimepiride- pioglitazone, metformin-rosiglitazone, and metformin- pioglitazone**, the feature indicates whether the drug was prescribed or there was a change in the dosage. Values: “up” if the dosage was increased during the encounter, “down” if the dosage was decreased, “steady” if the dosage did not change, and “no” if the drug was not prescribed\n",
    "* **Readmitted**\tDays to inpatient readmission. Values: “<30” if the patient was readmitted in less than 30 days, “>30” if the patient was readmitted in more than 30 days, and “No” for no record of readmission\n"
   ]
  },
  {
   "cell_type": "code",
   "execution_count": 1,
   "metadata": {},
   "outputs": [],
   "source": [
    "# Importing Libraries:\n",
    "import pandas as pd\n",
    "import numpy as np\n",
    "from matplotlib import pyplot as plt\n",
    "import category_encoders as ce\n",
    "from sklearn.model_selection import train_test_split,cross_val_score\n",
    "from sklearn.feature_selection import RFE \n",
    "from sklearn.metrics import confusion_matrix,accuracy_score,classification_report,f1_score,precision_score,recall_score,mean_absolute_error\n",
    "from sklearn.naive_bayes import GaussianNB\n",
    "from sklearn.linear_model import LogisticRegression\n",
    "from sklearn.svm import SVC\n",
    "from sklearn.svm import LinearSVC\n",
    "from sklearn.neighbors import KNeighborsClassifier\n",
    "from sklearn.ensemble import RandomForestClassifier\n",
    "from sklearn.tree import DecisionTreeClassifier\n",
    "from sklearn import preprocessing\n",
    "from sklearn.preprocessing import StandardScaler\n",
    "from imblearn.over_sampling import SMOTE\n",
    "from collections import Counter\n",
    "from sklearn.model_selection import GridSearchCV\n",
    "import warnings\n",
    "warnings.filterwarnings('ignore')"
   ]
  },
  {
   "cell_type": "code",
   "execution_count": 2,
   "metadata": {},
   "outputs": [
    {
     "data": {
      "text/html": [
       "<div>\n",
       "<style scoped>\n",
       "    .dataframe tbody tr th:only-of-type {\n",
       "        vertical-align: middle;\n",
       "    }\n",
       "\n",
       "    .dataframe tbody tr th {\n",
       "        vertical-align: top;\n",
       "    }\n",
       "\n",
       "    .dataframe thead th {\n",
       "        text-align: right;\n",
       "    }\n",
       "</style>\n",
       "<table border=\"1\" class=\"dataframe\">\n",
       "  <thead>\n",
       "    <tr style=\"text-align: right;\">\n",
       "      <th></th>\n",
       "      <th>encounter_id</th>\n",
       "      <th>patient_nbr</th>\n",
       "      <th>race</th>\n",
       "      <th>gender</th>\n",
       "      <th>age</th>\n",
       "      <th>weight</th>\n",
       "      <th>admission_type_id</th>\n",
       "      <th>discharge_disposition_id</th>\n",
       "      <th>admission_source_id</th>\n",
       "      <th>time_in_hospital</th>\n",
       "      <th>...</th>\n",
       "      <th>citoglipton</th>\n",
       "      <th>insulin</th>\n",
       "      <th>glyburide-metformin</th>\n",
       "      <th>glipizide-metformin</th>\n",
       "      <th>glimepiride-pioglitazone</th>\n",
       "      <th>metformin-rosiglitazone</th>\n",
       "      <th>metformin-pioglitazone</th>\n",
       "      <th>change</th>\n",
       "      <th>diabetesMed</th>\n",
       "      <th>readmitted</th>\n",
       "    </tr>\n",
       "  </thead>\n",
       "  <tbody>\n",
       "    <tr>\n",
       "      <th>0</th>\n",
       "      <td>2278392</td>\n",
       "      <td>8222157</td>\n",
       "      <td>Caucasian</td>\n",
       "      <td>Female</td>\n",
       "      <td>[0-10)</td>\n",
       "      <td>?</td>\n",
       "      <td>6</td>\n",
       "      <td>25</td>\n",
       "      <td>1</td>\n",
       "      <td>1</td>\n",
       "      <td>...</td>\n",
       "      <td>No</td>\n",
       "      <td>No</td>\n",
       "      <td>No</td>\n",
       "      <td>No</td>\n",
       "      <td>No</td>\n",
       "      <td>No</td>\n",
       "      <td>No</td>\n",
       "      <td>No</td>\n",
       "      <td>No</td>\n",
       "      <td>NO</td>\n",
       "    </tr>\n",
       "    <tr>\n",
       "      <th>1</th>\n",
       "      <td>149190</td>\n",
       "      <td>55629189</td>\n",
       "      <td>Caucasian</td>\n",
       "      <td>Female</td>\n",
       "      <td>[10-20)</td>\n",
       "      <td>?</td>\n",
       "      <td>1</td>\n",
       "      <td>1</td>\n",
       "      <td>7</td>\n",
       "      <td>3</td>\n",
       "      <td>...</td>\n",
       "      <td>No</td>\n",
       "      <td>Up</td>\n",
       "      <td>No</td>\n",
       "      <td>No</td>\n",
       "      <td>No</td>\n",
       "      <td>No</td>\n",
       "      <td>No</td>\n",
       "      <td>Ch</td>\n",
       "      <td>Yes</td>\n",
       "      <td>&gt;30</td>\n",
       "    </tr>\n",
       "    <tr>\n",
       "      <th>2</th>\n",
       "      <td>64410</td>\n",
       "      <td>86047875</td>\n",
       "      <td>AfricanAmerican</td>\n",
       "      <td>Female</td>\n",
       "      <td>[20-30)</td>\n",
       "      <td>?</td>\n",
       "      <td>1</td>\n",
       "      <td>1</td>\n",
       "      <td>7</td>\n",
       "      <td>2</td>\n",
       "      <td>...</td>\n",
       "      <td>No</td>\n",
       "      <td>No</td>\n",
       "      <td>No</td>\n",
       "      <td>No</td>\n",
       "      <td>No</td>\n",
       "      <td>No</td>\n",
       "      <td>No</td>\n",
       "      <td>No</td>\n",
       "      <td>Yes</td>\n",
       "      <td>NO</td>\n",
       "    </tr>\n",
       "    <tr>\n",
       "      <th>3</th>\n",
       "      <td>500364</td>\n",
       "      <td>82442376</td>\n",
       "      <td>Caucasian</td>\n",
       "      <td>Male</td>\n",
       "      <td>[30-40)</td>\n",
       "      <td>?</td>\n",
       "      <td>1</td>\n",
       "      <td>1</td>\n",
       "      <td>7</td>\n",
       "      <td>2</td>\n",
       "      <td>...</td>\n",
       "      <td>No</td>\n",
       "      <td>Up</td>\n",
       "      <td>No</td>\n",
       "      <td>No</td>\n",
       "      <td>No</td>\n",
       "      <td>No</td>\n",
       "      <td>No</td>\n",
       "      <td>Ch</td>\n",
       "      <td>Yes</td>\n",
       "      <td>NO</td>\n",
       "    </tr>\n",
       "    <tr>\n",
       "      <th>4</th>\n",
       "      <td>16680</td>\n",
       "      <td>42519267</td>\n",
       "      <td>Caucasian</td>\n",
       "      <td>Male</td>\n",
       "      <td>[40-50)</td>\n",
       "      <td>?</td>\n",
       "      <td>1</td>\n",
       "      <td>1</td>\n",
       "      <td>7</td>\n",
       "      <td>1</td>\n",
       "      <td>...</td>\n",
       "      <td>No</td>\n",
       "      <td>Steady</td>\n",
       "      <td>No</td>\n",
       "      <td>No</td>\n",
       "      <td>No</td>\n",
       "      <td>No</td>\n",
       "      <td>No</td>\n",
       "      <td>Ch</td>\n",
       "      <td>Yes</td>\n",
       "      <td>NO</td>\n",
       "    </tr>\n",
       "  </tbody>\n",
       "</table>\n",
       "<p>5 rows × 50 columns</p>\n",
       "</div>"
      ],
      "text/plain": [
       "   encounter_id  patient_nbr             race  gender      age weight  \\\n",
       "0       2278392      8222157        Caucasian  Female   [0-10)      ?   \n",
       "1        149190     55629189        Caucasian  Female  [10-20)      ?   \n",
       "2         64410     86047875  AfricanAmerican  Female  [20-30)      ?   \n",
       "3        500364     82442376        Caucasian    Male  [30-40)      ?   \n",
       "4         16680     42519267        Caucasian    Male  [40-50)      ?   \n",
       "\n",
       "   admission_type_id  discharge_disposition_id  admission_source_id  \\\n",
       "0                  6                        25                    1   \n",
       "1                  1                         1                    7   \n",
       "2                  1                         1                    7   \n",
       "3                  1                         1                    7   \n",
       "4                  1                         1                    7   \n",
       "\n",
       "   time_in_hospital  ... citoglipton insulin  glyburide-metformin  \\\n",
       "0                 1  ...          No      No                   No   \n",
       "1                 3  ...          No      Up                   No   \n",
       "2                 2  ...          No      No                   No   \n",
       "3                 2  ...          No      Up                   No   \n",
       "4                 1  ...          No  Steady                   No   \n",
       "\n",
       "   glipizide-metformin  glimepiride-pioglitazone  metformin-rosiglitazone  \\\n",
       "0                   No                        No                       No   \n",
       "1                   No                        No                       No   \n",
       "2                   No                        No                       No   \n",
       "3                   No                        No                       No   \n",
       "4                   No                        No                       No   \n",
       "\n",
       "   metformin-pioglitazone  change diabetesMed readmitted  \n",
       "0                      No      No          No         NO  \n",
       "1                      No      Ch         Yes        >30  \n",
       "2                      No      No         Yes         NO  \n",
       "3                      No      Ch         Yes         NO  \n",
       "4                      No      Ch         Yes         NO  \n",
       "\n",
       "[5 rows x 50 columns]"
      ]
     },
     "execution_count": 2,
     "metadata": {},
     "output_type": "execute_result"
    }
   ],
   "source": [
    "df = pd.read_csv('diabetic_data.csv')\n",
    "df.head()"
   ]
  },
  {
   "cell_type": "markdown",
   "metadata": {},
   "source": [
    "## Data cleaning"
   ]
  },
  {
   "cell_type": "markdown",
   "metadata": {},
   "source": [
    "**Summary of data cleaning** :\n",
    "* Dropped columns with majority of values missing - 'weight','payer_code','medical_specialty'\n",
    "* Dropped columns that didnot have meaningful info for prediction analysis e.g patient ID - 'encounter_id','patient_nbr'\n",
    "* Removed rows that contained missing values\n",
    "* Removed duplicate patient visits based on the first encounter of a patient."
   ]
  },
  {
   "cell_type": "markdown",
   "metadata": {},
   "source": [
    "#### Removing duplicate patient IDs"
   ]
  },
  {
   "cell_type": "code",
   "execution_count": 3,
   "metadata": {},
   "outputs": [],
   "source": [
    "# Removing duplicate patients\n",
    "# sorting by patient ID \n",
    "df.sort_values([\"patient_nbr\"], inplace = True) \n",
    "  \n",
    "# dropping ALL duplicte values \n",
    "df.drop_duplicates(subset =[\"patient_nbr\"], keep = 'first', inplace = True) "
   ]
  },
  {
   "cell_type": "markdown",
   "metadata": {},
   "source": [
    "#### Cleaning Missing Values"
   ]
  },
  {
   "cell_type": "code",
   "execution_count": 4,
   "metadata": {},
   "outputs": [
    {
     "name": "stdout",
     "output_type": "stream",
     "text": [
      "encounter_id 0.0\n",
      "patient_nbr 0.0\n",
      "race 0.02670656338264493\n",
      "gender 0.0\n",
      "age 0.0\n",
      "weight 0.9601498923347969\n",
      "admission_type_id 0.0\n",
      "discharge_disposition_id 0.0\n",
      "admission_source_id 0.0\n",
      "time_in_hospital 0.0\n",
      "payer_code 0.4272490841466484\n",
      "medical_specialty 0.4818367404010179\n",
      "num_lab_procedures 0.0\n",
      "num_procedures 0.0\n",
      "num_medications 0.0\n",
      "number_outpatient 0.0\n",
      "number_emergency 0.0\n",
      "number_inpatient 0.0\n",
      "diag_1 0.00016778992701138175\n",
      "diag_2 0.0041807656813669285\n",
      "diag_3 0.016597220280209178\n",
      "number_diagnoses 0.0\n",
      "max_glu_serum 0.0\n",
      "A1Cresult 0.0\n",
      "metformin 0.0\n",
      "repaglinide 0.0\n",
      "nateglinide 0.0\n",
      "chlorpropamide 0.0\n",
      "glimepiride 0.0\n",
      "acetohexamide 0.0\n",
      "glipizide 0.0\n",
      "glyburide 0.0\n",
      "tolbutamide 0.0\n",
      "pioglitazone 0.0\n",
      "rosiglitazone 0.0\n",
      "acarbose 0.0\n",
      "miglitol 0.0\n",
      "troglitazone 0.0\n",
      "tolazamide 0.0\n",
      "examide 0.0\n",
      "citoglipton 0.0\n",
      "insulin 0.0\n",
      "glyburide-metformin 0.0\n",
      "glipizide-metformin 0.0\n",
      "glimepiride-pioglitazone 0.0\n",
      "metformin-rosiglitazone 0.0\n",
      "metformin-pioglitazone 0.0\n",
      "change 0.0\n",
      "diabetesMed 0.0\n",
      "readmitted 0.0\n"
     ]
    }
   ],
   "source": [
    "# Checking for coloumns that have most missing values:\n",
    "for col in df.columns:\n",
    "    print(col, df[col][df[col]==\"?\"].count()/df[col].count())"
   ]
  },
  {
   "cell_type": "code",
   "execution_count": 5,
   "metadata": {},
   "outputs": [],
   "source": [
    "# Dropping these columns as most of the data is missing:\n",
    "\n",
    "df = df.drop(['weight','payer_code','medical_specialty'], axis = 1)\n",
    "\n",
    "# Dropping only the rows of missing values:\n",
    "\n",
    "df=df[df.gender != 'Unknown/Invalid']\n",
    "df = df[df.A1Cresult != 'None']\n",
    "drop_missing_values = set(df[(df['diag_1'] == '?') & (df['diag_2'] == '?') & (df['diag_3'] == '?')].index)\n",
    "drop_missing_values = drop_missing_values.union(set(df['diag_1'][df['diag_1'] == '?'].index))\n",
    "drop_missing_values = drop_missing_values.union(set(df['diag_2'][df['diag_2'] == '?'].index))\n",
    "drop_missing_values = drop_missing_values.union(set(df['diag_3'][df['diag_3'] == '?'].index))\n",
    "drop_missing_values = drop_missing_values.union(set(df['race'][df['race'] == '?'].index))\n",
    "\n",
    "# Removing the first 2 columns that contain Patient ID and encounter ID: these wont help with our predictions so we are dropping it\n",
    "\n",
    "df = df.drop(['encounter_id','patient_nbr'], axis = 1)"
   ]
  },
  {
   "cell_type": "markdown",
   "metadata": {},
   "source": [
    "---"
   ]
  },
  {
   "cell_type": "markdown",
   "metadata": {},
   "source": [
    "## Feature Engineering"
   ]
  },
  {
   "cell_type": "markdown",
   "metadata": {},
   "source": [
    "**Summary of feature engineering**\n",
    "* Reduced the number of categories for various coulmns - 'admission_type_id', 'admission_source_id','discharge_disposition_id'\n",
    "* Using ordinal category encoder, converted varoius columns into numerical data\n",
    "* Based on prevous studies, the only medication that varied significantly across the patients was the delivery of insulin, while other medications remained common among all the patients.\n",
    "* Based on prevous studies, relationship between readmission and the HbA1c measurement depends on the diagnosis i.e. 'diag_1',diag_2,diag_3. \n",
    "* ICD9 code for diabetes: 250.xx, all other codes were dropped as they were not related to diabeties care.\n",
    "* Determined columns with large skewness (majorly right skewed) and transformed the values using square roots transformation. Remaining columns normalized using standard scalar.\n",
    "*  Balanced target classes using SMOTE function."
   ]
  },
  {
   "cell_type": "markdown",
   "metadata": {},
   "source": [
    "#### Collapsing similar categories"
   ]
  },
  {
   "cell_type": "code",
   "execution_count": 6,
   "metadata": {},
   "outputs": [],
   "source": [
    "# Reduce the number of categories in the various Id columns to a minimum level:\n",
    "\n",
    "#admission_type_id : we will combine various Ids into 'Emergency' or 'Others'\n",
    "df['admission_type_id'] = pd.Series(['Emergency' if val == 1 else 'Other type' for val in df['admission_type_id']], index=df.index)\n",
    "\n",
    "# admission_source_id: Combining IDs into 3 categories -'Emergency Room', 'Referrals', 'Others'\n",
    "df['admission_source_id'] = pd.Series(['Emergency Room' if val == 7 else 'Referrals' if val == 1 else 'Others' \n",
    "                                              for val in df['admission_source_id']], index=df.index)\n",
    "\n",
    "# discharge_disposition_id: Combining IDs into 2 categories - 'Discahrged to home' or 'other'\n",
    "df['discharge_disposition_id'] = pd.Series(['Home' if val == 1 else 'Other' \n",
    "                                              for val in df['discharge_disposition_id']], index=df.index)\n"
   ]
  },
  {
   "cell_type": "markdown",
   "metadata": {},
   "source": [
    "#### Changing categorical fetures to numerical data"
   ]
  },
  {
   "cell_type": "code",
   "execution_count": 7,
   "metadata": {},
   "outputs": [],
   "source": [
    "#Changing age categories fom [0-10...90-100] to 1 to 10:\n",
    "\n",
    "for i in range(0,10):\n",
    "    df['age'] = df['age'].replace('['+str(10*i)+'-'+str(10*(i+1))+')', i+1)\n",
    "\n",
    "df['age'] = df['age'].astype('int64')\n",
    "# convert age categories to mid-point values\n",
    "age_dict = {1:5, 2:15, 3:25, 4:35, 5:45, 6:55, 7:65, 8:75, 9:85, 10:95}\n",
    "df['age'] = df.age.map(age_dict)\n",
    "\n",
    "\n",
    "# Changing categorical values to numerical:\n",
    "\n",
    "encoder = ce.OrdinalEncoder(cols=['admission_type_id','admission_source_id','discharge_disposition_id','race',\n",
    "                                  'A1Cresult','max_glu_serum','insulin'])\n",
    "encoder.fit(df)\n",
    "df = encoder.transform(df) \n",
    "\n",
    "\n",
    "df['gender'] = df['gender'].replace('Male', 1)\n",
    "df['gender'] = df['gender'].replace('Female', 0)\n",
    "\n",
    "df['change'] = df['change'].replace('Ch', 1)\n",
    "df['change'] = df['change'].replace('No', 0)\n",
    "\n",
    "df['diabetesMed'] = df['diabetesMed'].replace('Yes', 1)\n",
    "df['diabetesMed'] = df['diabetesMed'].replace('No', 0)  \n",
    "   \n",
    "    \n",
    "#changing the Target values Readmitted from category to numerical:\n",
    "df['readmitted'] = df['readmitted'].replace('>30', 1)\n",
    "df['readmitted'] = df['readmitted'].replace('<30', 1)\n",
    "df['readmitted'] = df['readmitted'].replace('NO', 0)"
   ]
  },
  {
   "cell_type": "markdown",
   "metadata": {},
   "source": [
    "#### Feature selection on Diagnoses & Medication"
   ]
  },
  {
   "cell_type": "code",
   "execution_count": 8,
   "metadata": {},
   "outputs": [],
   "source": [
    "# keeping only 'insulin' and removing the other 22 diabetes medications\n",
    "df.drop(['metformin', 'repaglinide', 'nateglinide', 'chlorpropamide', 'glimepiride', \n",
    "           'acetohexamide', 'glipizide', 'glyburide', 'tolbutamide', 'pioglitazone', \n",
    "           'rosiglitazone', 'acarbose', 'miglitol', 'troglitazone', 'tolazamide', 'examide', \n",
    "           'citoglipton', 'glyburide-metformin', 'glipizide-metformin', 'glimepiride-pioglitazone',\n",
    "           'metformin-rosiglitazone', 'metformin-pioglitazone'], axis=1, inplace=True)\n",
    "\n",
    "# removing 'diag_2' and 'diag_3' and keeping ICP codes of 250.xx (related to diabeties)\n",
    "df['diag_1'] = pd.Series([1 if val.startswith('250') else 0 for val in df['diag_1']], index=df.index)\n",
    "df['diag_2'] = pd.Series([1 if val.startswith('250') else 0 for val in df['diag_2']], index=df.index)\n",
    "df['diag_3'] = pd.Series([1 if val.startswith('250') else 0 for val in df['diag_3']], index=df.index)\n",
    "#df.drop(['diag_2', 'diag_3'], axis=1, inplace=True)"
   ]
  },
  {
   "cell_type": "code",
   "execution_count": null,
   "metadata": {},
   "outputs": [],
   "source": [
    "fig = plt.figure(figsize=(20,15))\n",
    "\n",
    "ax1 = fig.add_subplot(221)\n",
    "ax1 = data.groupby('miglitol').size().plot(kind='bar')\n",
    "plt.xlabel('miglitol', fontsize=15)\n",
    "plt.ylabel('Count', fontsize=15)\n",
    "\n",
    "ax2 = fig.add_subplot(222)\n",
    "ax2 = data.groupby('nateglinide').size().plot(kind='bar')\n",
    "plt.xlabel('nateglinide', fontsize=15)\n",
    "plt.ylabel('Count', fontsize=15)\n",
    "\n",
    "ax3 = fig.add_subplot(223)\n",
    "ax3 = data.groupby('acarbose').size().plot(kind='bar')\n",
    "plt.xlabel('acarbose', fontsize=15)\n",
    "plt.ylabel('Count', fontsize=15)\n",
    "\n",
    "ax4 = fig.add_subplot(224)\n",
    "ax4 = data.groupby('insulin').size().plot(kind='bar')\n",
    "plt.xlabel('insulin', fontsize=15)\n",
    "plt.ylabel('Count', fontsize=15)"
   ]
  },
  {
   "cell_type": "markdown",
   "metadata": {},
   "source": [
    "#### Normalization/standardization of features"
   ]
  },
  {
   "cell_type": "code",
   "execution_count": 9,
   "metadata": {},
   "outputs": [
    {
     "data": {
      "text/plain": [
       "race                         2.842378\n",
       "gender                       0.029683\n",
       "age                         -0.599576\n",
       "admission_type_id            0.437291\n",
       "discharge_disposition_id    -0.633596\n",
       "admission_source_id          1.173320\n",
       "time_in_hospital             1.033424\n",
       "num_lab_procedures          -0.267204\n",
       "num_procedures               1.329574\n",
       "num_medications              1.430320\n",
       "number_outpatient           13.675596\n",
       "number_emergency             8.617874\n",
       "number_inpatient             5.081129\n",
       "diag_1                       1.873786\n",
       "diag_2                       1.887667\n",
       "diag_3                       1.732087\n",
       "number_diagnoses            -0.846717\n",
       "max_glu_serum                8.421262\n",
       "A1Cresult                   -0.109649\n",
       "insulin                      0.635600\n",
       "change                      -0.181666\n",
       "diabetesMed                 -1.728438\n",
       "readmitted                   0.799795\n",
       "dtype: float64"
      ]
     },
     "execution_count": 9,
     "metadata": {},
     "output_type": "execute_result"
    }
   ],
   "source": [
    "# Determining Skewness inorder to see which features require skewness reduction:\n",
    "# Few numerical columns are highly positively skewed (Right Skewed) \n",
    "# we use Square roots (as the counted values are mostly rather small) :\n",
    "\n",
    "df.skew(axis = 0, skipna = True)"
   ]
  },
  {
   "cell_type": "code",
   "execution_count": 10,
   "metadata": {},
   "outputs": [],
   "source": [
    "# Features with highest skew; reducing skewness through square roots\n",
    "df['number_outpatient'] = df['number_outpatient'].apply(lambda x: np.sqrt(x + 0.5))\n",
    "df['number_emergency'] = df['number_emergency'].apply(lambda x: np.sqrt(x + 0.5))\n",
    "df['number_inpatient'] = df['number_inpatient'].apply(lambda x: np.sqrt(x + 0.5))"
   ]
  },
  {
   "cell_type": "code",
   "execution_count": 11,
   "metadata": {},
   "outputs": [],
   "source": [
    "# Normalizing/standariztion the remaning numerical features as these have the skewness;\n",
    "\n",
    "feature_cols = ['time_in_hospital', 'num_lab_procedures', 'num_procedures', 'num_medications', \n",
    "                      'number_diagnoses', 'number_inpatient', 'number_emergency', 'number_outpatient']\n",
    "\n",
    "scaler = preprocessing.StandardScaler().fit(df[feature_cols])\n",
    "data_scaler = scaler.transform(df[feature_cols])\n",
    "\n",
    "df_scaled = pd.DataFrame(data=data_scaler, columns=feature_cols, index=df.index)\n",
    "df.drop(feature_cols, axis=1, inplace=True)\n",
    "df = pd.concat([df, df_scaled], axis=1)"
   ]
  },
  {
   "cell_type": "markdown",
   "metadata": {},
   "source": [
    "#### Creating train/test split"
   ]
  },
  {
   "cell_type": "code",
   "execution_count": 12,
   "metadata": {},
   "outputs": [],
   "source": [
    "X = df.drop(['readmitted'],axis=1)\n",
    "y = df['readmitted']\n",
    "X_train, X_test, y_train, y_test = train_test_split(X, y, test_size=0.20, random_state=0)"
   ]
  },
  {
   "cell_type": "markdown",
   "metadata": {},
   "source": [
    "#### Balancing target class values"
   ]
  },
  {
   "cell_type": "code",
   "execution_count": 13,
   "metadata": {},
   "outputs": [
    {
     "name": "stdout",
     "output_type": "stream",
     "text": [
      "Original dataset shape Counter({0: 6928, 1: 3208})\n",
      "Balanced dataset shape Counter({0: 6928, 1: 6928})\n"
     ]
    }
   ],
   "source": [
    "print('Original dataset shape {}'.format(Counter(y_train)))\n",
    "sm = SMOTE(random_state=20)\n",
    "train_input_bal, train_output_bal = sm.fit_sample(X_train, y_train)\n",
    "print('Balanced dataset shape {}'.format(Counter(train_output_bal)))"
   ]
  },
  {
   "cell_type": "code",
   "execution_count": 14,
   "metadata": {},
   "outputs": [],
   "source": [
    "# Train/test plit using balanced class data\n",
    "X_train, X_test, y_train, y_test = train_test_split(train_input_bal, train_output_bal, test_size=0.20, random_state=0)"
   ]
  },
  {
   "cell_type": "markdown",
   "metadata": {},
   "source": [
    "---"
   ]
  },
  {
   "cell_type": "markdown",
   "metadata": {},
   "source": [
    "## Baseline Model"
   ]
  },
  {
   "cell_type": "markdown",
   "metadata": {},
   "source": [
    "**Summary of Baseline model**\n",
    "* Used an ensemble of learning algorithms to determine best classifer to use.\n",
    "* Random Forest classifer achived an test accuracy score of -"
   ]
  },
  {
   "cell_type": "code",
   "execution_count": 15,
   "metadata": {},
   "outputs": [
    {
     "name": "stdout",
     "output_type": "stream",
     "text": [
      "Performance metrics for  LogisticRegression  :- \n",
      "Accuracy score  0.6403318903318903\n",
      "Cross val score 0.6388476462679813\n",
      "Precision 0.6546546546546547\n",
      "Recall 0.6188786373314408\n",
      "f1 0.6362641371762131\n",
      "Confusion Matrix: \n",
      " [[903 460]\n",
      " [537 872]]\n",
      "------------------------------------------------------------\n",
      "------------------------------------------------------------\n",
      "\n",
      "Performance metrics for  LinearSVC  :- \n",
      "Accuracy score  0.5667388167388168\n",
      "Cross val score 0.5422163753731368\n",
      "Precision 0.8421052631578947\n",
      "Recall 0.1816891412349184\n",
      "f1 0.29889083479276124\n",
      "Confusion Matrix: \n",
      " [[1315   48]\n",
      " [1153  256]]\n",
      "------------------------------------------------------------\n",
      "------------------------------------------------------------\n",
      "\n",
      "Performance metrics for  SVC  :- \n",
      "Accuracy score  0.6154401154401155\n",
      "Cross val score 0.6159350961773218\n",
      "Precision 0.6543654365436543\n",
      "Recall 0.5159687721788503\n",
      "f1 0.5769841269841269\n",
      "Confusion Matrix: \n",
      " [[979 384]\n",
      " [682 727]]\n",
      "------------------------------------------------------------\n",
      "------------------------------------------------------------\n",
      "\n",
      "Performance metrics for  KNeighborsClassifier  :- \n",
      "Accuracy score  0.6987734487734488\n",
      "Cross val score 0.6914457686210298\n",
      "Precision 0.6619638826185101\n",
      "Recall 0.8325053229240597\n",
      "f1 0.7375039295818925\n",
      "Confusion Matrix: \n",
      " [[ 764  599]\n",
      " [ 236 1173]]\n",
      "------------------------------------------------------------\n",
      "------------------------------------------------------------\n",
      "\n",
      "Performance metrics for  RandomForestClassifier  :- \n",
      "Accuracy score  0.7243867243867244\n",
      "Cross val score 0.7250079754421488\n",
      "Precision 0.7419354838709677\n",
      "Recall 0.7019162526614621\n",
      "f1 0.7213712618526623\n",
      "Confusion Matrix: \n",
      " [[1019  344]\n",
      " [ 420  989]]\n",
      "------------------------------------------------------------\n",
      "------------------------------------------------------------\n",
      "\n",
      "Performance metrics for  DecisionTreeClassifier  :- \n",
      "Accuracy score  0.6865079365079365\n",
      "Cross val score 0.6752976142034486\n",
      "Precision 0.7020958083832335\n",
      "Recall 0.6657203690560681\n",
      "f1 0.6834244080145719\n",
      "Confusion Matrix: \n",
      " [[965 398]\n",
      " [471 938]]\n",
      "------------------------------------------------------------\n",
      "------------------------------------------------------------\n",
      "\n",
      "Performance metrics for  GaussianNB  :- \n",
      "Accuracy score  0.6298701298701299\n",
      "Cross val score 0.6250439463138808\n",
      "Precision 0.6972193614830072\n",
      "Recall 0.4804826117814053\n",
      "f1 0.5689075630252101\n",
      "Confusion Matrix: \n",
      " [[1069  294]\n",
      " [ 732  677]]\n",
      "------------------------------------------------------------\n",
      "------------------------------------------------------------\n",
      "\n"
     ]
    }
   ],
   "source": [
    "ensemble_clf =[LogisticRegression(max_iter=100000,fit_intercept=True, penalty='l2'),\n",
    "               LinearSVC(loss='hinge',random_state=100),\n",
    "               SVC(),\n",
    "               KNeighborsClassifier(),\n",
    "               RandomForestClassifier(n_estimators = 10, max_depth=25, criterion = \"gini\", min_samples_split=10),\n",
    "               DecisionTreeClassifier(max_depth=28, criterion = \"entropy\", min_samples_split=10),\n",
    "               GaussianNB()]\n",
    "\n",
    "for clf in (ensemble_clf):\n",
    "    clf.fit(X_train,y_train)\n",
    "    y_pred=clf.predict(X_test)\n",
    "    print('Performance metrics for ',clf.__class__.__name__,' :- ')\n",
    "    print('Accuracy score ', accuracy_score(y_test,y_pred))\n",
    "    print('Cross val score',cross_val_score(clf, X_train,y_train, cv=10, scoring='accuracy').mean())\n",
    "    print('Precision', precision_score(y_test, y_pred))\n",
    "    print('Recall', recall_score(y_test, y_pred))\n",
    "    print('f1', f1_score(y_test, y_pred))\n",
    "    print('Confusion Matrix: \\n',confusion_matrix(y_test,y_pred))\n",
    "    print(\"------------------------------------------------------------\\n------------------------------------------------------------\\n\")\n",
    "\n"
   ]
  },
  {
   "cell_type": "markdown",
   "metadata": {},
   "source": [
    "#### Best estimator using baseline model"
   ]
  },
  {
   "cell_type": "markdown",
   "metadata": {},
   "source": [
    "**Based on the above reuslts we see that Random Forest classifer provides highest accuracy**"
   ]
  },
  {
   "cell_type": "markdown",
   "metadata": {},
   "source": [
    "## Improved Random Forest classifer model"
   ]
  },
  {
   "cell_type": "markdown",
   "metadata": {},
   "source": [
    "**Summary of improved model**\n",
    "* Conducted Grid search using Cross validation.\n",
    "* Used RFE to determine most important features- used forst 11 features based on baseline model's Random forest classifer.\n",
    "* Ran model across differnt parameters - most change in score noticed with changes in n_estimators and max_depth\n",
    "* Achived an accuracy of 76%"
   ]
  },
  {
   "cell_type": "markdown",
   "metadata": {},
   "source": [
    "#### Imporved feature selection"
   ]
  },
  {
   "cell_type": "code",
   "execution_count": 16,
   "metadata": {},
   "outputs": [
    {
     "data": {
      "text/plain": [
       "Index(['race', 'age', 'A1Cresult', 'insulin', 'time_in_hospital',\n",
       "       'num_lab_procedures', 'num_procedures', 'num_medications',\n",
       "       'number_diagnoses', 'number_inpatient', 'number_outpatient'],\n",
       "      dtype='object')"
      ]
     },
     "execution_count": 16,
     "metadata": {},
     "output_type": "execute_result"
    }
   ],
   "source": [
    "# Using RFe to determine most important columns\n",
    "classifier = RandomForestClassifier(n_estimators = 70, max_depth=50, criterion = \"gini\", min_samples_split=10)\n",
    "rfe = RFE(classifier, 11)\n",
    "rfe = rfe.fit(X_train, y_train)\n",
    "X_train.columns[rfe.support_]"
   ]
  },
  {
   "cell_type": "markdown",
   "metadata": {},
   "source": [
    "#### Hyperparameter Tuning - Grid Search"
   ]
  },
  {
   "cell_type": "code",
   "execution_count": 17,
   "metadata": {},
   "outputs": [
    {
     "name": "stdout",
     "output_type": "stream",
     "text": [
      "Best Accuracy: 76.25%\n",
      "Best Params: {'criterion': 'entropy', 'max_depth': 50, 'n_estimators': 190}\n"
     ]
    }
   ],
   "source": [
    "param_grid = [{'n_estimators' : [70,100,150,190],\n",
    "               'max_depth': [50,60,70,],\n",
    "               'criterion': ['gini', 'entropy']}]\n",
    "\n",
    "gs = GridSearchCV(estimator=RandomForestClassifier(min_samples_split=10,random_state=123),\n",
    "                  param_grid=param_grid,\n",
    "                  iid=False,\n",
    "                  refit=True,\n",
    "                  n_jobs=-1,\n",
    "                  cv=10)\n",
    "\n",
    "gs.fit(X_train[X_train.columns[rfe.support_]],y_train)\n",
    "\n",
    "print('Best Accuracy: %.2f%%' % (gs.best_score_*100))\n",
    "print('Best Params:', gs.best_params_)"
   ]
  },
  {
   "cell_type": "markdown",
   "metadata": {},
   "source": [
    "#### Test accuracy score"
   ]
  },
  {
   "cell_type": "code",
   "execution_count": 18,
   "metadata": {},
   "outputs": [
    {
     "name": "stdout",
     "output_type": "stream",
     "text": [
      "Test Accuracy score: 77.31%\n"
     ]
    }
   ],
   "source": [
    "print('Test Accuracy score: %.2f%%' % (gs.best_estimator_.score(X_test[X_test.columns[rfe.support_]], y_test)*100))"
   ]
  },
  {
   "cell_type": "markdown",
   "metadata": {},
   "source": [
    "## Important features:"
   ]
  },
  {
   "cell_type": "code",
   "execution_count": 19,
   "metadata": {},
   "outputs": [
    {
     "name": "stdout",
     "output_type": "stream",
     "text": [
      "Top 10 features are: \n",
      "diag_2\n",
      "admission_source_id\n",
      "discharge_disposition_id\n",
      "diag_3\n",
      "diag_1\n",
      "gender\n",
      "max_glu_serum\n",
      "admission_type_id\n",
      "A1Cresult\n",
      "age\n"
     ]
    },
    {
     "data": {
      "image/png": "[encoded data removed]",
      "text/plain": [
       "<Figure size 864x720 with 1 Axes>"
      ]
     },
     "metadata": {
      "needs_background": "light"
     },
     "output_type": "display_data"
    }
   ],
   "source": [
    "# Checking which features is important to a model:\n",
    "\n",
    "importances = gs.best_estimator_.feature_importances_\n",
    "\n",
    "# make importance relative to the max importance\n",
    "feature_importance = 100.0 * (importances / importances.max())\n",
    "sorted_idx = np.argsort(feature_importance)\n",
    "feature_names = list(X.columns.values)\n",
    "feature_names_sort = [feature_names[indice] for indice in sorted_idx]\n",
    "pos = np.arange(sorted_idx.shape[0]) + .5\n",
    "print ('Top 10 features are: ')\n",
    "for feature in feature_names_sort[::-1][:10]:\n",
    "    print (feature)\n",
    "\n",
    "# plot the result\n",
    "plt.figure(figsize=(12, 10))\n",
    "plt.barh(pos, feature_importance[sorted_idx], align='center')\n",
    "plt.yticks(pos, feature_names_sort)\n",
    "plt.title('Relative Feature Importance', fontsize=20)\n",
    "plt.show()"
   ]
  },
  {
   "cell_type": "markdown",
   "metadata": {},
   "source": [
    "## Results and understandings"
   ]
  },
  {
   "cell_type": "code",
   "execution_count": null,
   "metadata": {},
   "outputs": [],
   "source": []
  },
  {
   "cell_type": "code",
   "execution_count": null,
   "metadata": {},
   "outputs": [],
   "source": []
  }
 ],
 "metadata": {
  "kernelspec": {
   "display_name": "Python 3",
   "language": "python",
   "name": "python3"
  },
  "language_info": {
   "codemirror_mode": {
    "name": "ipython",
    "version": 3
   },
   "file_extension": ".py",
   "mimetype": "text/x-python",
   "name": "python",
   "nbconvert_exporter": "python",
   "pygments_lexer": "ipython3",
   "version": "3.7.5"
  }
 },
 "nbformat": 4,
 "nbformat_minor": 4
}
